{
 "cells": [
  {
   "cell_type": "markdown",
   "id": "e67798a2-e179-458a-b1f1-3c91b363d49d",
   "metadata": {},
   "source": [
    "Step 4: Write a Report on the Neural Network Model\r\n",
    "For this part of the assignment, you’ll write a report on the performance of the deep learning model you created for Alphabet Soup.\r\n",
    "The report should contain the following:\r\n",
    "1.\tOverview of the analysis: Explain the purpose of this analysis.\r\n",
    "2.\tResults: Using bulleted lists and images to support your answers, address the following questions:\r\n",
    "•\tData Preprocessing\r\n",
    "o\tWhat variable(s) are the target(s) for your model?\r\n",
    "o\tWhat variable(s) are the features for your model?\r\n",
    "o\tWhat variable(s) should be removed from the input data because they are neither targets nor features?\r\n",
    "•\tCompiling, Training, and Evaluating the Model\r\n",
    "o\tHow many neurons, layers, and activation functions did you select for your neural network model, and why?\r\n",
    "o\tWere you able to achieve the target model performance?\r\n",
    "o\tWhat steps did you take in your attempts to increase model performance?\r\n",
    "3.\tSummary: Summarize the overall results of the deep learning model. Include a recommendation for how a different model could solve this classification problem, and then explain your recoBackground\r\n",
    "The nonprofit foundation Alphabet Soup wants a tool that can help it select the applicants for funding with the best chance of success in their ventures. With your knowledge of machine learning and neural networks, you’ll use the features in the provided dataset to create a binary classifier that can predict whether applicants will be successful if funded by Alphabet Soup.\r\n",
    "\r\n",
    "From Alphabet Soup’s business team, you have received a CSV containing more than 34,000 organizations that have received funding from Alphabet Soup over the years. Within this dataset are a number of columns that capture metadata about each organization, such as:mmendation.\r\n",
    "\r\n"
   ]
  },
  {
   "cell_type": "markdown",
   "id": "42c0dbf5-6526-4dcf-8c8b-fc90548924fd",
   "metadata": {},
   "source": [
    "1. Purpose of analysis\n",
    "The purpose of this analysis was to build a neural network that can predict if applicants wil be successful if funded by Alphabet soup.\n",
    "\n",
    "2. Results\n",
    "Target Variable =\n",
    "IS_SUCCESSFUL\n",
    "\n",
    "Features = \n",
    "All columns except 'IS_SUCCESSFUL'\n",
    "\n",
    "Variables to be Removed = \n",
    "EIN\n",
    "Name\n",
    "\n",
    "1st Layer Neurons = \n",
    "20\n",
    "relu\n",
    "\n",
    "2nd Layer Neurons = \n",
    "10\n",
    "relu\n",
    "\n",
    "3rd Layer Neurons = \n",
    "10\n",
    "relu\n",
    "\n",
    "The steps I took to improve the model were:\n",
    "\n",
    "change all activation to relu for accuracy a\n",
    "\n",
    "Changed epochs to 500 as the model was learning and if it had more epochs it could learn more of the dataset\n",
    "\n",
    "With so many epochs i raised the batch size to make the code run faster.\n",
    "\n",
    "3. Summary\n",
    "The overall results of this model was 74%. With almost 75% correct classifications accuracy this can give some predictive ability. We could use a basic clustering model to cluster the classes in which we are trying to solve. I would reccommend a cluster because the dataset can be solved by splitting groups and trying to predict which group new samples will belong to.\n",
    "\n"
   ]
  }
 ],
 "metadata": {
  "kernelspec": {
   "display_name": "Python 3 (ipykernel)",
   "language": "python",
   "name": "python3"
  },
  "language_info": {
   "codemirror_mode": {
    "name": "ipython",
    "version": 3
   },
   "file_extension": ".py",
   "mimetype": "text/x-python",
   "name": "python",
   "nbconvert_exporter": "python",
   "pygments_lexer": "ipython3",
   "version": "3.9.13"
  }
 },
 "nbformat": 4,
 "nbformat_minor": 5
}
